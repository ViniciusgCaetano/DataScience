
{
 "cells": [
  {
  "cell_type": "code",
  "execution_count": 1,  
  "id": "42a7a643-0850-4059-abad-e0db2d74ea41",
  "metadata": {},
   "outputs": [],
   "source": [
    "import pandas as pd"
   ]  },
  {
   "cell_type": "code",
   "execution_count": 4,
   "id": "935d2d2f-770d-4aff-8bd7-398c6c87a412",
   "metadata": {},
   "outputs": [
    {
     "name": "stderr",
     "output_type": "stream",
     "text": [
      "C:\\Users\\vinic\\AppData\\Local\\Temp\\ipykernel_8828\\2746770714.py:1: DtypeWarning: Columns (19) have mixed types. Specify dtype option on import or set low_memory=False.\n",
      "  df = pd.read_csv('2021 - EficiÃªncia AcadÃªmica.csv', sep=';')\n"
     ]
    }
   ],
   "source": [
   "df = pd.read_csv('2021 - EficiÃªncia AcadÃªmica.csv', sep=';')"
  ]
  },
 {
   "cell_type": "code",
   "execution_count": 17,
   "id": "98ac7917-c373-4222-a7be-f1aa295a1af7",
   "metadata": {},
   "outputs": [],
   "source": [
    "evaded_df = df[df['Categoria da SituaÃ§Ã£o']=='Evadidos']"
   ]
  },
  {
   "cell_type": "code",
   "execution_count": 23,
   "id": "eda83725-d170-4325-a575-a9410a3eca2c",
   "metadata": {},
   "outputs": [
    {
     "data": {
      "text/plain": [
       "IFRS            65591\n",
       "IFSUL           19632\n",
       "IFMS            13774\n",
       "IFSP            11553\n",
       "IFCE            11494\n",
       "                ...  \n",
       "UFRR - EAGRO       24\n",
       "ETDUFPA             8\n",
       "EMUFPA              6\n",
       "UFMG - TU           4\n",
       "UFMA - COLUN        1\n",
       "Name: InstituiÃ§Ã£o, Length: 64, dtype: int64"
      ]
     },
     "execution_count": 23,
     "metadata": {},
     "output_type": "execute_result"
    }
   ],
   "source": [
    "evaded_df['InstituiÃ§Ã£o'].value_counts()"
   ]
  },
  {
   "cell_type": "code",
   "execution_count": 15,
   "id": "304ded7a-1659-4f5a-b21f-660d7b49ff98",
   "metadata": {},
   "outputs": [
    {
     "data": {
      "text/plain": [
       "array(['Evadidos', 'Concluintes', 'Em curso'], dtype=object)"
      ]
     },
     "execution_count": 15,
     "metadata": {},
     "output_type": "execute_result"
    }
   ],
   "source": [
    "df['Categoria da SituaÃ§Ã£o'].unique()"
   ]
  },
  {
   "cell_type": "code",
   "execution_count": null,
   "id": "aabaf7cb-2109-4786-b19a-054235bbe3ec",
   "metadata": {},
   "outputs": [],
   "source": []
  }
 ],
 "metadata": {
  "kernelspec": {
   "display_name": "Python 3 (ipykernel)",
   "language": "python",
   "name": "python3"
  },
  "language_info": {
   "codemirror_mode": {
    "name": "ipython",
    "version": 3
   },
   "file_extension": ".py",
   "mimetype": "text/x-python",
   "name": "python",
   "nbconvert_exporter": "python",
   "pygments_lexer": "ipython3",
   "version": "3.10.7"
  }
 },
 "nbformat": 4,
 "nbformat_minor": 5
}

